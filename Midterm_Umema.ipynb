{
 "cells": [
  {
   "cell_type": "markdown",
   "id": "7cc67e53-678b-42d8-bd6e-1325f206c05f",
   "metadata": {},
   "source": [
    "Question 1\r\n",
    "Refer to these Stata DTA file: Countrie_ dependencie_ area. This is a list of the world’s countries\r\n",
    "and their dependencies by land, water, and total area. For more details, visit the Wikipedia page\r\n",
    "• Calculate the percentage of water in relation to the total land area measured in kilomete 100 (1)\r\n",
    "• Calculate the percentage of water in relation to the total land area measured \r\n",
    "\u0013\r\n",
    "× 100 (2)\r\n",
    "• Find out which 10 countries have the largest land (in km2) with water in the world.\r\n",
    "• Find out which 10 countries have the water (%) in the world."
   ]
  },
  {
   "cell_type": "code",
   "execution_count": 156,
   "id": "5f273686-4209-475a-83f3-e0f3a3fbafe2",
   "metadata": {},
   "outputs": [
    {
     "name": "stdout",
     "output_type": "stream",
     "text": [
      "  Country_Name           Area_Type            Area_Size ISO_Alpha3_Code\n",
      "0  Afghanistan  Total in km2 (mi2)    652,864 (252,072)             AFG\n",
      "1  Afghanistan   Land in km2 (mi2)    652,230 (251,830)             AFG\n",
      "2      Albania  Total in km2 (mi2)      28,748 (11,100)             ALB\n",
      "3      Albania   Land in km2 (mi2)      27,400 (10,600)             ALB\n",
      "4      Algeria  Total in km2 (mi2)  2,381,741 (919,595)             DZA\n",
      "    Country_Name           Area_Type          Area_Size ISO_Alpha3_Code\n",
      "381        Yemen   Land in km2 (mi2)  527,968 (203,850)             YEM\n",
      "382       Zambia   Land in km2 (mi2)  743,390 (287,020)             ZMB\n",
      "383       Zambia  Total in km2 (mi2)  752,612 (290,585)             ZMB\n",
      "384     Zimbabwe  Total in km2 (mi2)  390,757 (150,872)             ZWE\n",
      "385     Zimbabwe   Land in km2 (mi2)  386,850 (149,360)             ZWE\n"
     ]
    },
    {
     "data": {
      "text/plain": [
       "193"
      ]
     },
     "execution_count": 156,
     "metadata": {},
     "output_type": "execute_result"
    }
   ],
   "source": [
    "import pandas as pd\n",
    "import numpy as np\n",
    "import re\n",
    "file_path = 'C:/Users/uy128/Desktop/Academics/IBA/Data Analytics for Economists/DataSets/Countries_dependencies_area.dta'\n",
    "data = pd.read_stata(file_path)\n",
    "df = pd.DataFrame(data)\n",
    "print(df.head())\n",
    "print(df.tail())\n",
    "df['Country_Name'].nunique()"
   ]
  },
  {
   "cell_type": "code",
   "execution_count": 108,
   "id": "f57a410f-32a7-49d1-9f4a-c99dd74213b6",
   "metadata": {},
   "outputs": [
    {
     "name": "stdout",
     "output_type": "stream",
     "text": [
      "    Country_Name  Land_Area_km2  Total_Area_km2  Land_Area_mi2  Total_Area_mi2\n",
      "0    Afghanistan       652230.0        652864.0       251830.0        252072.0\n",
      "1        Albania        27400.0         28748.0        10600.0         11100.0\n",
      "2        Algeria      2381741.0       2381741.0       919595.0        919595.0\n",
      "3        Andorra          468.0           468.0          181.0           181.0\n",
      "4         Angola      1246700.0       1246700.0       481350.0        481350.0\n",
      "..           ...            ...             ...            ...             ...\n",
      "187    Venezuela       882050.0        912050.0       340560.0        352140.0\n",
      "188      Vietnam       313429.0        331340.0       121016.0        127930.0\n",
      "189        Yemen       527968.0        527968.0       203850.0        203850.0\n",
      "190       Zambia       743390.0        752612.0       287020.0        290585.0\n",
      "191     Zimbabwe       386850.0        390757.0       149360.0        150872.0\n",
      "\n",
      "[192 rows x 5 columns]\n"
     ]
    }
   ],
   "source": [
    "#Function to separate km² and mi² from Area_Size\n",
    "def separate_area_sizes(df):\n",
    "    df[['Area_km2', 'Area_mi2']] = df['Area_Size'].str.extract(r'([\\d,]+) \\(([\\d,]+)\\)')\n",
    "    \n",
    "    # Remove commas and convert to numeric\n",
    "    df['Area_km2'] = df['Area_km2'].str.replace(',', '').astype(float)\n",
    "    df['Area_mi2'] = df['Area_mi2'].str.replace(',', '').astype(float)\n",
    "\n",
    "    return df\n",
    "\n",
    "# Apply the function\n",
    "df = separate_area_sizes(df)\n",
    "\n",
    "# Pivot the DataFrame to create separate columns for Total and Land Areas\n",
    "area_df = df.pivot_table(index='Country_Name', \n",
    "                          columns='Area_Type', \n",
    "                          values=['Area_km2', 'Area_mi2'], \n",
    "                          aggfunc='first')\n",
    "\n",
    "# Reset index to make Country_Name a column again\n",
    "area_df.reset_index(inplace=True)\n",
    "\n",
    "# Rename columns for clarity\n",
    "area_df.columns = ['Country_Name', \n",
    "                   'Land_Area_km2', 'Total_Area_km2', \n",
    "                   'Land_Area_mi2', 'Total_Area_mi2']\n",
    "\n",
    "# Display the resulting DataFrame\n",
    "print(area_df)"
   ]
  },
  {
   "cell_type": "code",
   "execution_count": 110,
   "id": "e2724981-7045-4ac8-85b2-9d8451a29846",
   "metadata": {},
   "outputs": [
    {
     "name": "stdout",
     "output_type": "stream",
     "text": [
      "Country_Name        object\n",
      "Area_Type           object\n",
      "Area_Size           object\n",
      "ISO_Alpha3_Code     object\n",
      "Area_km2           float64\n",
      "Area_mi2           float64\n",
      "dtype: object\n"
     ]
    }
   ],
   "source": [
    "#Check the data type \n",
    "print(df.dtypes)"
   ]
  },
  {
   "cell_type": "code",
   "execution_count": 124,
   "id": "4eb2cfff-aa25-4497-aa67-cbccb93b347d",
   "metadata": {},
   "outputs": [
    {
     "name": "stdout",
     "output_type": "stream",
     "text": [
      "    Country_Name  Total_Area_km2  Land_Area_km2  Water_Percentage_km2\n",
      "0    Afghanistan        652864.0       652230.0              0.097111\n",
      "1        Albania         28748.0        27400.0              4.689022\n",
      "2        Algeria       2381741.0      2381741.0              0.000000\n",
      "3        Andorra           468.0          468.0              0.000000\n",
      "4         Angola       1246700.0      1246700.0              0.000000\n",
      "..           ...             ...            ...                   ...\n",
      "187    Venezuela        912050.0       882050.0              3.289293\n",
      "188      Vietnam        331340.0       313429.0              5.405626\n",
      "189        Yemen        527968.0       527968.0              0.000000\n",
      "190       Zambia        752612.0       743390.0              1.225333\n",
      "191     Zimbabwe        390757.0       386850.0              0.999854\n",
      "\n",
      "[192 rows x 4 columns]\n"
     ]
    }
   ],
   "source": [
    "#Question 1: Calculate Water Percentage (in km2) (Euqation1)\n",
    "area_df['Water_Percentage_km2'] = ((area_df['Total_Area_km2'] - area_df['Land_Area_km2']) / area_df['Total_Area_km2']) * 100\n",
    "\n",
    "# Display the resulting DataFrame with Water Percentage\n",
    "print(area_df[['Country_Name', 'Total_Area_km2', 'Land_Area_km2', 'Water_Percentage_km2']])"
   ]
  },
  {
   "cell_type": "code",
   "execution_count": 114,
   "id": "64932582-6081-4cc1-b9cb-f2f814d91659",
   "metadata": {},
   "outputs": [
    {
     "name": "stdout",
     "output_type": "stream",
     "text": [
      "    Country_Name  Total_Area_mi2  Land_Area_mi2  Water_Percentage_mi2\n",
      "0    Afghanistan        252072.0       251830.0              0.096004\n",
      "1        Albania         11100.0        10600.0              4.504505\n",
      "2        Algeria        919595.0       919595.0              0.000000\n",
      "3        Andorra           181.0          181.0              0.000000\n",
      "4         Angola        481350.0       481350.0              0.000000\n",
      "..           ...             ...            ...                   ...\n",
      "187    Venezuela        352140.0       340560.0              3.288465\n",
      "188      Vietnam        127930.0       121016.0              5.404518\n",
      "189        Yemen        203850.0       203850.0              0.000000\n",
      "190       Zambia        290585.0       287020.0              1.226836\n",
      "191     Zimbabwe        150872.0       149360.0              1.002174\n",
      "\n",
      "[192 rows x 4 columns]\n"
     ]
    }
   ],
   "source": [
    "#To solve Equation 2\n",
    "# Calculate Water Percentage in square miles\n",
    "area_df['Water_Percentage_mi2'] = ((area_df['Total_Area_mi2'] - area_df['Land_Area_mi2']) / area_df['Total_Area_mi2']) * 100\n",
    "\n",
    "# Display the resulting DataFrame with Water Percentage in mi²\n",
    "print(area_df[['Country_Name', 'Total_Area_mi2', 'Land_Area_mi2', 'Water_Percentage_mi2']])"
   ]
  },
  {
   "cell_type": "code",
   "execution_count": 122,
   "id": "7cd2a9cc-43a9-421e-827a-57bf5a07d456",
   "metadata": {},
   "outputs": [
    {
     "name": "stdout",
     "output_type": "stream",
     "text": [
      "                   Country_Name  Land_Area_km2  Water_Area_km2\n",
      "140                      Russia     16376870.0        721376.0\n",
      "132  People's Republic of China      9326410.0        270550.0\n",
      "183               United States      9147593.0        377474.0\n",
      "31                       Canada      9093507.0        891163.0\n",
      "23                       Brazil      8460415.0         49931.0\n",
      "8                     Australia      7682300.0         58920.0\n",
      "74                        India      2973190.0        314073.0\n",
      "6                     Argentina      2736690.0         43710.0\n",
      "85                   Kazakhstan      2699700.0         25210.0\n",
      "2                       Algeria      2381741.0             0.0\n"
     ]
    }
   ],
   "source": [
    "#Question 1: Find out which 10 countries have the largest land (in km2) with water in the world.\n",
    "# Calculate Water Area\n",
    "area_df['Water_Area_km2'] = area_df['Total_Area_km2'] - area_df['Land_Area_km2']\n",
    "\n",
    "# Sort by Land Area and select the top 10\n",
    "top_10_largest_land = area_df.nlargest(10, 'Land_Area_km2')\n",
    "\n",
    "# Display the resulting DataFrame with Land and Water Areas\n",
    "print(top_10_largest_land[['Country_Name', 'Land_Area_km2', 'Water_Area_km2']])"
   ]
  },
  {
   "cell_type": "code",
   "execution_count": 126,
   "id": "de758479-077c-4fd0-b23b-b11dfea60cf7",
   "metadata": {},
   "outputs": [
    {
     "name": "stdout",
     "output_type": "stream",
     "text": [
      "      Country_Name  Water_Percentage_km2\n",
      "11         Bahamas             27.881844\n",
      "68   Guinea-Bissau             22.159170\n",
      "100         Malawi             20.596874\n",
      "118    Netherlands             19.042159\n",
      "179         Uganda             16.986131\n",
      "51         Eritrea             14.115646\n",
      "94         Liberia             13.512737\n",
      "13      Bangladesh             12.319817\n",
      "60          Gambia             10.402833\n",
      "57         Finland             10.152449\n"
     ]
    }
   ],
   "source": [
    "#Question 1: Find out which 10 countries have the water (%) in the world.\n",
    "# Sort by Water Percentage and select the top 10\n",
    "top_10_highest_water_percentage = area_df.nlargest(10, 'Water_Percentage_km2')\n",
    "\n",
    "# Display the resulting DataFrame with Country Name and Water Percentage\n",
    "print(top_10_highest_water_percentage[['Country_Name', 'Water_Percentage_km2']])"
   ]
  },
  {
   "cell_type": "markdown",
   "id": "3aaf8a14-831a-459f-8941-4300effe3234",
   "metadata": {},
   "source": [
    "Question 2: Refer to the ISO 3166 Countries Codes CSV file. This file contains official state names, sovereignty\r\n",
    "status—indicating if a country is UN member, disputed, or under another state’s control—and TLD (Top-\r\n",
    "Level Domain), which is the Internet domain suffix for each country (e.g., .pk for Pakistan). For more\r\n",
    "details, visit the Wikipedia page.\r\n",
    "• Read the CSV and assign the Name sovereign UN memb df to this Dataframe.\r\n",
    "• Clean the Data: Remove any unnecessary notes, references, or sources attached to the values in\r\n",
    "any column. For example remove the [e] from Antarctica[e] or [c][d] from ˚Aland[c][d]\r\n",
    "• Filter UN Member Countries: Eliminate any countries from the dataset that are not UN\r\n",
    "members. You can determine UN membership by checking the “Sovereignty Status” column.\r\n",
    "• Reset index Remember, there are currently 193 sovereign states that are members of the United\r\n",
    "Nations.Ensure that the index is reset properly."
   ]
  },
  {
   "cell_type": "code",
   "execution_count": 142,
   "id": "3b3f04c7-b06d-452d-989d-5169ad94dba0",
   "metadata": {},
   "outputs": [
    {
     "name": "stdout",
     "output_type": "stream",
     "text": [
      "    ISO_3166_Name                          Official_State_Name  \\\n",
      "0     Afghanistan       the Islamic Republic of Afghanistan[b]   \n",
      "1   Åland Islands                                  Åland[c][d]   \n",
      "2         Albania                      the Republic of Albania   \n",
      "3         Algeria  the People's Democratic Republic of Algeria   \n",
      "4  American Samoa                            American Samoa[c]   \n",
      "\n",
      "  Sovereignty_Status ISO_Alpha3_Code Top_Level_Domain  \n",
      "0          UN member             AFG              .af  \n",
      "1            Finland             ALA              .ax  \n",
      "2          UN member             ALB              .al  \n",
      "3          UN member             DZA              .dz  \n",
      "4      United States             ASM              .as  \n",
      "           ISO_3166_Name                             Official_State_Name  \\\n",
      "266    Wallis and Futuna  the Territory of the Wallis and Futuna Islands   \n",
      "267  Western Sahara [an]      the Sahrawi Arab Democratic Republic[c][d]   \n",
      "268                Yemen                           the Republic of Yemen   \n",
      "269               Zambia                          the Republic of Zambia   \n",
      "270             Zimbabwe                        the Republic of Zimbabwe   \n",
      "\n",
      "    Sovereignty_Status ISO_Alpha3_Code Top_Level_Domain  \n",
      "266             France             WLF              .wf  \n",
      "267      Disputed [ao]             ESH             [ap]  \n",
      "268          UN member             YEM              .ye  \n",
      "269          UN member             ZMB              .zm  \n",
      "270          UN member             ZWE              .zw  \n"
     ]
    }
   ],
   "source": [
    "# Read the CSV file\n",
    "countries_data = pd.read_csv('C:/Users/uy128/Desktop/Academics/IBA/Data Analytics for Economists/DataSets/ISO_3166_Countries_Codes.csv')\n",
    "sovereign_UN_memb_df = pd.DataFrame(sovereign_UN_memb_df)\n",
    "print(sovereign_UN_memb_df.head())\n",
    "print(sovereign_UN_memb_df.tail())"
   ]
  },
  {
   "cell_type": "code",
   "execution_count": 162,
   "id": "2528b846-c700-40d9-b6ff-02c552f88176",
   "metadata": {},
   "outputs": [
    {
     "name": "stdout",
     "output_type": "stream",
     "text": [
      "    ISO_3166_Name                          Official_State_Name  \\\n",
      "0     Afghanistan          the Islamic Republic of Afghanistan   \n",
      "1   Åland Islands                                        Åland   \n",
      "2         Albania                      the Republic of Albania   \n",
      "3         Algeria  the People's Democratic Republic of Algeria   \n",
      "4  American Samoa                               American Samoa   \n",
      "\n",
      "  Sovereignty_Status ISO_Alpha3_Code Top_Level_Domain  \n",
      "0          UN member             AFG              .af  \n",
      "1            Finland             ALA              .ax  \n",
      "2          UN member             ALB              .al  \n",
      "3          UN member             DZA              .dz  \n",
      "4      United States             ASM              .as  \n"
     ]
    }
   ],
   "source": [
    "# Function to clean the values in a column\n",
    "def clean_value(value):\n",
    "    # Remove references in square brackets\n",
    "    return re.sub(r'\\s*\\[.*?\\]', '', value)\n",
    "\n",
    "# Apply the cleaning function to all columns in the DataFrame\n",
    "for column in sovereign_UN_memb_df.columns:\n",
    "    sovereign_UN_memb_df[column] = sovereign_UN_memb_df[column].map(clean_value)\n",
    "\n",
    "# Display the cleaned DataFrame\n",
    "print(sovereign_UN_memb_df.head())"
   ]
  },
  {
   "cell_type": "code",
   "execution_count": 182,
   "id": "29a73e50-3f07-4e71-8052-58357cce8a2c",
   "metadata": {},
   "outputs": [
    {
     "name": "stdout",
     "output_type": "stream",
     "text": [
      "  ISO_3166_Name                          Official_State_Name  \\\n",
      "0   Afghanistan          the Islamic Republic of Afghanistan   \n",
      "2       Albania                      the Republic of Albania   \n",
      "3       Algeria  the People's Democratic Republic of Algeria   \n",
      "5       Andorra                  the Principality of Andorra   \n",
      "6        Angola                       the Republic of Angola   \n",
      "\n",
      "  Sovereignty_Status ISO_Alpha3_Code Top_Level_Domain  \n",
      "0          UN member             AFG              .af  \n",
      "2          UN member             ALB              .al  \n",
      "3          UN member             DZA              .dz  \n",
      "5          UN member             AND              .ad  \n",
      "6          UN member             AGO              .ao  \n"
     ]
    }
   ],
   "source": [
    "# Filter the DataFrame for UN member countries\n",
    "sovereign_UN_memb_df = sovereign_UN_memb_df[sovereign_UN_memb_df[\"Sovereignty_Status\"] == \"UN member\"]\n",
    "\n",
    "# Display the filtered DataFrame\n",
    "print(sovereign_UN_memb_df.head())\n"
   ]
  },
  {
   "cell_type": "code",
   "execution_count": 184,
   "id": "ec4939b6-bd9a-4b09-988c-af5dd0547ec5",
   "metadata": {},
   "outputs": [
    {
     "name": "stdout",
     "output_type": "stream",
     "text": [
      "  ISO_3166_Name                          Official_State_Name  \\\n",
      "0   Afghanistan          the Islamic Republic of Afghanistan   \n",
      "1       Albania                      the Republic of Albania   \n",
      "2       Algeria  the People's Democratic Republic of Algeria   \n",
      "3       Andorra                  the Principality of Andorra   \n",
      "4        Angola                       the Republic of Angola   \n",
      "\n",
      "  Sovereignty_Status ISO_Alpha3_Code Top_Level_Domain  \n",
      "0          UN member             AFG              .af  \n",
      "1          UN member             ALB              .al  \n",
      "2          UN member             DZA              .dz  \n",
      "3          UN member             AND              .ad  \n",
      "4          UN member             AGO              .ao  \n",
      "                          ISO_3166_Name                   Official_State_Name  \\\n",
      "188  Venezuela (Bolivarian Republic of)  the Bolivarian Republic of Venezuela   \n",
      "189                            Viet Nam    the Socialist Republic of Viet Nam   \n",
      "190                               Yemen                 the Republic of Yemen   \n",
      "191                              Zambia                the Republic of Zambia   \n",
      "192                            Zimbabwe              the Republic of Zimbabwe   \n",
      "\n",
      "    Sovereignty_Status ISO_Alpha3_Code Top_Level_Domain  \n",
      "188          UN member             VEN              .ve  \n",
      "189          UN member             VNM              .vn  \n",
      "190          UN member             YEM              .ye  \n",
      "191          UN member             ZMB              .zm  \n",
      "192          UN member             ZWE              .zw  \n",
      "Total number of UN member countries: 193\n"
     ]
    }
   ],
   "source": [
    "# Reset the index of the filtered DataFrame\n",
    "sovereign_UN_memb_df.reset_index(drop=True, inplace=True)\n",
    "\n",
    "# Display the DataFrame with the reset index\n",
    "print(sovereign_UN_memb_df.head())\n",
    "print(sovereign_UN_memb_df.tail())\n",
    "\n",
    "# Print the number of countries to confirm it matches the expected count\n",
    "print(f\"Total number of UN member countries: {len(un_member_df)}\")"
   ]
  },
  {
   "cell_type": "markdown",
   "id": "8d6eec65-1248-445d-a48d-8f04007c6893",
   "metadata": {},
   "source": [
    "Question 3\r\n",
    "Please refer to the world bank country groups CSV file. This file contains the The World Bank\r\n",
    "Group classification of the world’s economies, classified by income, region, and World Bank lending\r\n",
    "status. Visit the interactive version on the World Bank Country Groups\r\n",
    "• Read the CSV and assign the Name wb groups df to this Dataframe.\r\n",
    "• Merge Datasets: Combine wb groups df with the sovereign UN memb df.\r\n",
    "• Name the merged dataframe as countries df.\r\n",
    "• Include “merge indicator” column to show the status of each row from both datasets.\r\n",
    "• Consider using the column ISO Alpha3 Code while merging the data frames.\r\n",
    "• Verify that all 193 UN member countries are matched by cross-tabulating the “merge indicator”\r\n",
    "and “sovereignty status” columns.\r\n",
    "• Drop and Reset: Keep only the rows that are present in both datasets, resulting in a total of 193\r\n",
    "rows. Drop the “merge indicator” and “Code” columns. Ensure that the index is reset properly."
   ]
  },
  {
   "cell_type": "code",
   "execution_count": 180,
   "id": "b4b9ead5-c6eb-4100-b0a9-3ad84c8157ea",
   "metadata": {},
   "outputs": [
    {
     "name": "stdout",
     "output_type": "stream",
     "text": [
      "          Economy Code                      Region         Income group  \\\n",
      "0     Afghanistan  AFG                  South Asia           Low income   \n",
      "1         Albania  ALB       Europe & Central Asia  Upper middle income   \n",
      "2         Algeria  DZA  Middle East & North Africa  Upper middle income   \n",
      "3  American Samoa  ASM         East Asia & Pacific          High income   \n",
      "4         Andorra  AND       Europe & Central Asia          High income   \n",
      "\n",
      "  Lending category  \n",
      "0              IDA  \n",
      "1             IBRD  \n",
      "2             IBRD  \n",
      "3              NaN  \n",
      "4              NaN  \n"
     ]
    }
   ],
   "source": [
    "#Part(a): Read the CSV and assign the Name wb groups df to this Dataframe.\n",
    "# Read the CSV file\n",
    "wb_groups_df = pd.read_csv('C:/Users/uy128/Desktop/Academics/IBA/Data Analytics for Economists/DataSets/world_bank_groups.csv')\n",
    "\n",
    "# Display the first few rows of the DataFrame to understand its structure\n",
    "print(wb_groups_df.head())"
   ]
  },
  {
   "cell_type": "code",
   "execution_count": 194,
   "id": "58c4f07e-0117-4f37-bef6-cef7373d9379",
   "metadata": {},
   "outputs": [
    {
     "name": "stdout",
     "output_type": "stream",
     "text": [
      "  ISO_3166_Name                          Official_State_Name  \\\n",
      "0   Afghanistan          the Islamic Republic of Afghanistan   \n",
      "1       Albania                      the Republic of Albania   \n",
      "2       Algeria  the People's Democratic Republic of Algeria   \n",
      "3       Andorra                  the Principality of Andorra   \n",
      "4        Angola                       the Republic of Angola   \n",
      "\n",
      "  Sovereignty_Status ISO_Alpha3_Code Top_Level_Domain      Economy Code  \\\n",
      "0          UN member             AFG              .af  Afghanistan  AFG   \n",
      "1          UN member             ALB              .al      Albania  ALB   \n",
      "2          UN member             DZA              .dz      Algeria  DZA   \n",
      "3          UN member             AND              .ad      Andorra  AND   \n",
      "4          UN member             AGO              .ao       Angola  AGO   \n",
      "\n",
      "                       Region         Income group Lending category _merge  \n",
      "0                  South Asia           Low income              IDA   both  \n",
      "1       Europe & Central Asia  Upper middle income             IBRD   both  \n",
      "2  Middle East & North Africa  Upper middle income             IBRD   both  \n",
      "3       Europe & Central Asia          High income              NaN   both  \n",
      "4          Sub-Saharan Africa  Lower middle income             IBRD   both  \n",
      "Total number of UN member countries: 193\n"
     ]
    }
   ],
   "source": [
    "#Part (b): Merge datasets: Combine wb groups df with the sovereign UN memb df.\n",
    "# Merge the DataFrames on the 'ISO_Alpha3_Code' and 'Code'\n",
    "countries_df = pd.merge(\n",
    "    sovereign_UN_memb_df,\n",
    "    wb_groups_df,\n",
    "    left_on=\"ISO_Alpha3_Code\",\n",
    "    right_on=\"Code\",\n",
    "    how=\"inner\",  \n",
    "    indicator=True  \n",
    ")\n",
    "\n",
    "# Display the merged DataFrame\n",
    "print(countries_df.head())\n",
    "\n",
    "print(f\"Total number of UN member countries: {len(countries_df)}\")"
   ]
  },
  {
   "cell_type": "code",
   "execution_count": 196,
   "id": "052333c0-d607-4263-950a-55fbea204ecd",
   "metadata": {},
   "outputs": [
    {
     "name": "stdout",
     "output_type": "stream",
     "text": [
      "Sovereignty_Status  UN member\n",
      "_merge                       \n",
      "both                      193\n"
     ]
    }
   ],
   "source": [
    "# Cross-tabulate the “merge indicator” and “Sovereignty_Status”\n",
    "cross_tab = pd.crosstab(countries_df['_merge'], countries_df['Sovereignty_Status'])\n",
    "\n",
    "print(cross_tab)"
   ]
  },
  {
   "cell_type": "code",
   "execution_count": 198,
   "id": "95941c82-7c2e-4f4b-96fd-c7565e8a5a8b",
   "metadata": {},
   "outputs": [
    {
     "name": "stdout",
     "output_type": "stream",
     "text": [
      "                          ISO_3166_Name  \\\n",
      "0                           Afghanistan   \n",
      "1                               Albania   \n",
      "2                               Algeria   \n",
      "3                               Andorra   \n",
      "4                                Angola   \n",
      "..                                  ...   \n",
      "188  Venezuela (Bolivarian Republic of)   \n",
      "189                            Viet Nam   \n",
      "190                               Yemen   \n",
      "191                              Zambia   \n",
      "192                            Zimbabwe   \n",
      "\n",
      "                             Official_State_Name Sovereignty_Status  \\\n",
      "0            the Islamic Republic of Afghanistan          UN member   \n",
      "1                        the Republic of Albania          UN member   \n",
      "2    the People's Democratic Republic of Algeria          UN member   \n",
      "3                    the Principality of Andorra          UN member   \n",
      "4                         the Republic of Angola          UN member   \n",
      "..                                           ...                ...   \n",
      "188         the Bolivarian Republic of Venezuela          UN member   \n",
      "189           the Socialist Republic of Viet Nam          UN member   \n",
      "190                        the Republic of Yemen          UN member   \n",
      "191                       the Republic of Zambia          UN member   \n",
      "192                     the Republic of Zimbabwe          UN member   \n",
      "\n",
      "    ISO_Alpha3_Code Top_Level_Domain        Economy  \\\n",
      "0               AFG              .af    Afghanistan   \n",
      "1               ALB              .al        Albania   \n",
      "2               DZA              .dz        Algeria   \n",
      "3               AND              .ad        Andorra   \n",
      "4               AGO              .ao         Angola   \n",
      "..              ...              ...            ...   \n",
      "188             VEN              .ve  Venezuela, RB   \n",
      "189             VNM              .vn        Vietnam   \n",
      "190             YEM              .ye    Yemen, Rep.   \n",
      "191             ZMB              .zm         Zambia   \n",
      "192             ZWE              .zw       Zimbabwe   \n",
      "\n",
      "                         Region         Income group Lending category  \n",
      "0                    South Asia           Low income              IDA  \n",
      "1         Europe & Central Asia  Upper middle income             IBRD  \n",
      "2    Middle East & North Africa  Upper middle income             IBRD  \n",
      "3         Europe & Central Asia          High income              NaN  \n",
      "4            Sub-Saharan Africa  Lower middle income             IBRD  \n",
      "..                          ...                  ...              ...  \n",
      "188   Latin America & Caribbean                  NaN             IBRD  \n",
      "189         East Asia & Pacific  Lower middle income             IBRD  \n",
      "190  Middle East & North Africa           Low income              IDA  \n",
      "191          Sub-Saharan Africa  Lower middle income              IDA  \n",
      "192          Sub-Saharan Africa  Lower middle income            Blend  \n",
      "\n",
      "[193 rows x 9 columns]\n",
      "Total number of rows: 193\n"
     ]
    }
   ],
   "source": [
    "# Drop the \"merge indicator\" and \"Code\" columns\n",
    "countries_df = countries_df.drop(columns=['_merge', 'Code'])\n",
    "\n",
    "# Reset the index\n",
    "countries_df.reset_index(drop=True, inplace=True)\n",
    "\n",
    "# Display the final DataFrame\n",
    "print(countries_df)\n",
    "print(f\"Total number of rows: {len(countries_df)}\")"
   ]
  },
  {
   "cell_type": "markdown",
   "id": "5e8c6a06-50f3-4067-a871-29a3669e24a2",
   "metadata": {},
   "source": [
    "Question 4\r\n",
    "Please refer to the internet speedtest global index CSV file. The Speedtest Global Index includes\r\n",
    "internet speed Ranking of mobile and fixed broadband speeds from around the world. For country wise\r\n",
    "Speedtest Intelligence, you can visit the Speedtest Global Index by Ookla.\r\n",
    "• Read the CSV and assign the Name ookla df to this Dataframe.\r\n",
    "• Merge Datasets: Combine ookla df with the countries df.\r\n",
    "• Name the merged dataframe as speedtest index df.\r\n",
    "• Consider using the column ISO Alpha3 Code while merging the data frames.\r\n",
    "• Find out which countries have the fastest, and slowest internet speeds in the world the in terms of\r\n",
    "Fixed Broadband speed\r\n",
    "• Find out which countries have the fastest, and slowest internet speeds in the world the in terms of\r\n",
    "Mobile speed\r\n",
    "• Compute the minimum and maximum Fixed Broadband speed Mbps for each 1) region, 2) income\r\n",
    "group?\r\n",
    "• Compute the minimum and maximum Mobile Speed Mbps for each 1) region, 2) income group?\r\n",
    "• Print top 25 countries based on Fixed Broadband Mbps.\r\n",
    "• Print top 25 countries based on Mobile Speed Mbps.\r\n",
    "• Filter the region as “South Asia“, Print three columns country, Mobile , and Fixed Broadband\r\n",
    "Speeds\r\n",
    "• Additional optional interactive resources to explore: Cloud Infrastructure Map around the World,\r\n",
    "Submarine Cable Map, and more. And of course, let’s try not to get too distracted by where the\r\n",
    "sharks are dining on Pakistan’s ocean cables!\r\n",
    "• Can you write a few lines about the state of the internet, technology, and data? Reflect on where\r\n",
    "we stand in this relentless race."
   ]
  },
  {
   "cell_type": "code",
   "execution_count": 200,
   "id": "8df73391-6874-4cde-89af-1ebdd5e336bd",
   "metadata": {},
   "outputs": [
    {
     "name": "stdout",
     "output_type": "stream",
     "text": [
      "  ISO 3166-1 alpha-3  Fixed Broadband Mbps  Mobile Speed Mbps\n",
      "0                AFG                  3.63               8.48\n",
      "1                ALB                 62.71              50.82\n",
      "2                DZA                 14.26              24.90\n",
      "3                AND                   NaN                NaN\n",
      "4                AGO                 18.58                NaN\n"
     ]
    }
   ],
   "source": [
    "# Read the CSV file\n",
    "ookla_df = pd.read_csv('C:/Users/uy128/Desktop/Academics/IBA/Data Analytics for Economists/DataSets/internet speedtest global index.csv')\n",
    "\n",
    "# Display the first few rows of the DataFrame to understand its structure\n",
    "print(ookla_df.head())"
   ]
  },
  {
   "cell_type": "code",
   "execution_count": 202,
   "id": "2236a1b2-d3fb-443a-824e-78ee6715f450",
   "metadata": {},
   "outputs": [
    {
     "name": "stdout",
     "output_type": "stream",
     "text": [
      "                  ISO_3166_Name                  Official_State_Name  \\\n",
      "0                   Afghanistan  the Islamic Republic of Afghanistan   \n",
      "1                        Angola               the Republic of Angola   \n",
      "2                       Albania              the Republic of Albania   \n",
      "3                       Andorra          the Principality of Andorra   \n",
      "4    United Arab Emirates (the)             the United Arab Emirates   \n",
      "..                          ...                                  ...   \n",
      "188                       Samoa       the Independent State of Samoa   \n",
      "189                       Yemen                the Republic of Yemen   \n",
      "190                South Africa         the Republic of South Africa   \n",
      "191                      Zambia               the Republic of Zambia   \n",
      "192                    Zimbabwe             the Republic of Zimbabwe   \n",
      "\n",
      "    Sovereignty_Status ISO_Alpha3_Code Top_Level_Domain               Economy  \\\n",
      "0            UN member             AFG              .af           Afghanistan   \n",
      "1            UN member             AGO              .ao                Angola   \n",
      "2            UN member             ALB              .al               Albania   \n",
      "3            UN member             AND              .ad               Andorra   \n",
      "4            UN member             ARE              .ae  United Arab Emirates   \n",
      "..                 ...             ...              ...                   ...   \n",
      "188          UN member             WSM              .ws                 Samoa   \n",
      "189          UN member             YEM              .ye           Yemen, Rep.   \n",
      "190          UN member             ZAF              .za          South Africa   \n",
      "191          UN member             ZMB              .zm                Zambia   \n",
      "192          UN member             ZWE              .zw              Zimbabwe   \n",
      "\n",
      "                         Region         Income group Lending category  \\\n",
      "0                    South Asia           Low income              IDA   \n",
      "1            Sub-Saharan Africa  Lower middle income             IBRD   \n",
      "2         Europe & Central Asia  Upper middle income             IBRD   \n",
      "3         Europe & Central Asia          High income              NaN   \n",
      "4    Middle East & North Africa          High income              NaN   \n",
      "..                          ...                  ...              ...   \n",
      "188         East Asia & Pacific  Lower middle income              IDA   \n",
      "189  Middle East & North Africa           Low income              IDA   \n",
      "190          Sub-Saharan Africa  Upper middle income             IBRD   \n",
      "191          Sub-Saharan Africa  Lower middle income              IDA   \n",
      "192          Sub-Saharan Africa  Lower middle income            Blend   \n",
      "\n",
      "    ISO 3166-1 alpha-3  Fixed Broadband Mbps  Mobile Speed Mbps  \n",
      "0                  AFG                  3.63               8.48  \n",
      "1                  AGO                 18.58                NaN  \n",
      "2                  ALB                 62.71              50.82  \n",
      "3                  AND                   NaN                NaN  \n",
      "4                  ARE                297.62             398.51  \n",
      "..                 ...                   ...                ...  \n",
      "188                WSM                   NaN                NaN  \n",
      "189                YEM                  7.54               7.91  \n",
      "190                ZAF                 47.35              51.96  \n",
      "191                ZMB                 18.20                NaN  \n",
      "192                ZWE                 21.81                NaN  \n",
      "\n",
      "[193 rows x 12 columns]\n"
     ]
    }
   ],
   "source": [
    "# Merge Datasets: Combine ookla_df with the countries_df.\n",
    "# Name the merged dataframe as speedtest_index_df.\n",
    "# Consider using the column ISO_Alpha3_Code while merging the data frames.\n",
    "\n",
    "speedtest_index_df = pd.merge(\n",
    "    countries_df,\n",
    "    ookla_df,\n",
    "    left_on=\"ISO_Alpha3_Code\",\n",
    "    right_on=\"ISO 3166-1 alpha-3\",\n",
    "    how=\"outer\"  \n",
    ")\n",
    "\n",
    "# Display the merged DataFrame\n",
    "print(speedtest_index_df)"
   ]
  },
  {
   "cell_type": "code",
   "execution_count": 204,
   "id": "0007dec4-4544-4f42-a297-7ea2640600bf",
   "metadata": {},
   "outputs": [
    {
     "name": "stdout",
     "output_type": "stream",
     "text": [
      "Fastest Fixed Broadband Speed:\n",
      "Country Code: ARE, Speed: 297.62 Mbps\n",
      "\n",
      "Slowest Fixed Broadband Speed:\n",
      "Country Code: TKM, Speed: 3.53 Mbps\n"
     ]
    }
   ],
   "source": [
    "\n",
    "# Find the index of the country with the fastest fixed broadband speed\n",
    "fastest_index = speedtest_index_df['Fixed Broadband Mbps'].idxmax()\n",
    "fastest_country = speedtest_index_df.loc[fastest_index]\n",
    "\n",
    "# Find the index of the country with the slowest fixed broadband speed\n",
    "slowest_index = speedtest_index_df['Fixed Broadband Mbps'].idxmin()\n",
    "slowest_country = speedtest_index_df.loc[slowest_index]\n",
    "\n",
    "# Display the results\n",
    "print(\"Fastest Fixed Broadband Speed:\")\n",
    "print(f\"Country Code: {fastest_country['ISO 3166-1 alpha-3']}, Speed: {fastest_country['Fixed Broadband Mbps']} Mbps\")\n",
    "\n",
    "print(\"\\nSlowest Fixed Broadband Speed:\")\n",
    "print(f\"Country Code: {slowest_country['ISO 3166-1 alpha-3']}, Speed: {slowest_country['Fixed Broadband Mbps']} Mbps\")"
   ]
  },
  {
   "cell_type": "code",
   "execution_count": 206,
   "id": "2d1427a9-924c-4f06-879f-edbf2db9c6aa",
   "metadata": {},
   "outputs": [
    {
     "name": "stdout",
     "output_type": "stream",
     "text": [
      "Fastest Mobile Speed:\n",
      "Country Code: ARE, Speed: 398.51 Mbps\n",
      "\n",
      "Slowest Mobile Speed:\n",
      "Country Code: YEM, Speed: 7.91 Mbps\n"
     ]
    }
   ],
   "source": [
    "# To find out fastest and slowest Mobile Speed\n",
    "# Drop rows with NaN in 'Mobile Speed Mbps'\n",
    "speedtest_index_df_cleaned = speedtest_index_df.dropna(subset=['Mobile Speed Mbps'])\n",
    "\n",
    "# Find the index of the country with the fastest mobile speed\n",
    "fastest_mobile_index = speedtest_index_df_cleaned['Mobile Speed Mbps'].idxmax()\n",
    "fastest_mobile_country = speedtest_index_df_cleaned.loc[fastest_mobile_index]\n",
    "\n",
    "# Find the index of the country with the slowest mobile speed\n",
    "slowest_mobile_index = speedtest_index_df_cleaned['Mobile Speed Mbps'].idxmin()\n",
    "slowest_mobile_country = speedtest_index_df_cleaned.loc[slowest_mobile_index]\n",
    "\n",
    "# Display the results\n",
    "print(\"Fastest Mobile Speed:\")\n",
    "print(f\"Country Code: {fastest_mobile_country['ISO 3166-1 alpha-3']}, Speed: {fastest_mobile_country['Mobile Speed Mbps']} Mbps\")\n",
    "\n",
    "print(\"\\nSlowest Mobile Speed:\")\n",
    "print(f\"Country Code: {slowest_mobile_country['ISO 3166-1 alpha-3']}, Speed: {slowest_mobile_country['Mobile Speed Mbps']} Mbps\")"
   ]
  },
  {
   "cell_type": "code",
   "execution_count": 212,
   "id": "94bf8359-df7a-421f-b39b-28dca978a28d",
   "metadata": {},
   "outputs": [
    {
     "name": "stdout",
     "output_type": "stream",
     "text": [
      "Minimum and Maximum Fixed Broadband Speed by Region:\n",
      "                       Region     min     max\n",
      "0         East Asia & Pacific   21.56  297.57\n",
      "1       Europe & Central Asia    3.53  223.72\n",
      "2   Latin America & Caribbean   12.09  265.62\n",
      "3  Middle East & North Africa    3.65  297.62\n",
      "4               North America  188.20  242.27\n",
      "5                  South Asia    3.63   71.62\n",
      "6          Sub-Saharan Africa    8.53   62.04\n",
      "\n",
      "Minimum and Maximum Fixed Broadband Speed by Income Group:\n",
      "          Income group    min     max\n",
      "0          High income  40.58  297.62\n",
      "1           Low income   3.63   45.80\n",
      "2  Lower middle income   9.35  151.69\n",
      "3  Upper middle income   3.53  232.15\n"
     ]
    }
   ],
   "source": [
    "# Compute minimum and maximum Fixed Broadband speed for each region\n",
    "region_stats = speedtest_index_df.groupby('Region')['Fixed Broadband Mbps'].agg(['min', 'max']).reset_index()\n",
    "print(\"Minimum and Maximum Fixed Broadband Speed by Region:\")\n",
    "print(region_stats)\n",
    "\n",
    "# Compute minimum and maximum Fixed Broadband speed for each income group\n",
    "income_group_stats = speedtest_index_df.groupby('Income group')['Fixed Broadband Mbps'].agg(['min', 'max']).reset_index()\n",
    "print(\"\\nMinimum and Maximum Fixed Broadband Speed by Income Group:\")\n",
    "print(income_group_stats)"
   ]
  },
  {
   "cell_type": "code",
   "execution_count": 214,
   "id": "7c19b3da-d3bb-498d-8325-537bd7642ea5",
   "metadata": {},
   "outputs": [
    {
     "name": "stdout",
     "output_type": "stream",
     "text": [
      "Minimum and Maximum Mobile Speed by Region:\n",
      "                       Region    min     max\n",
      "0         East Asia & Pacific  28.70  141.23\n",
      "1       Europe & Central Asia  11.98  133.44\n",
      "2   Latin America & Caribbean  11.26   73.08\n",
      "3  Middle East & North Africa   7.91  398.51\n",
      "4               North America  74.87  103.26\n",
      "5                  South Asia   8.48   96.38\n",
      "6          Sub-Saharan Africa  20.19   51.96\n",
      "\n",
      "Minimum and Maximum Mobile Speed by Income Group:\n",
      "          Income group    min     max\n",
      "0          High income  21.79  398.51\n",
      "1           Low income   7.91   12.79\n",
      "2  Lower middle income  11.26   96.38\n",
      "3  Upper middle income  11.98  108.37\n"
     ]
    }
   ],
   "source": [
    "# Compute minimum and maximum Mobile Speed for each region\n",
    "region_mobile_stats = speedtest_index_df.groupby('Region')['Mobile Speed Mbps'].agg(['min', 'max']).reset_index()\n",
    "print(\"Minimum and Maximum Mobile Speed by Region:\")\n",
    "print(region_mobile_stats)\n",
    "\n",
    "# Compute minimum and maximum Mobile Speed for each income group\n",
    "income_group_mobile_stats = speedtest_index_df.groupby('Income group')['Mobile Speed Mbps'].agg(['min', 'max']).reset_index()\n",
    "print(\"\\nMinimum and Maximum Mobile Speed by Income Group:\")\n",
    "print(income_group_mobile_stats)"
   ]
  },
  {
   "cell_type": "code",
   "execution_count": 216,
   "id": "dad083ce-9182-42e7-b563-cd6ab7017ab5",
   "metadata": {},
   "outputs": [
    {
     "name": "stdout",
     "output_type": "stream",
     "text": [
      "Top 25 Countries Based on Fixed Broadband Speed (Mbps):\n",
      "    ISO 3166-1 alpha-3  Fixed Broadband Mbps\n",
      "4                  ARE                297.62\n",
      "151                SGP                297.57\n",
      "31                 CHL                265.62\n",
      "182                USA                242.27\n",
      "169                THA                232.15\n",
      "58                 FRA                223.72\n",
      "47                 DNK                219.23\n",
      "81                 ISL                213.98\n",
      "82                 ISR                206.42\n",
      "53                 ESP                205.17\n",
      "30                 CHE                203.50\n",
      "145                ROU                200.94\n",
      "86                 JPN                197.78\n",
      "32                 CHN                189.49\n",
      "94                 KWT                188.29\n",
      "29                 CAN                188.20\n",
      "128                NLD                186.84\n",
      "100                LIE                186.36\n",
      "132                NZL                178.80\n",
      "75                 HUN                174.95\n",
      "144                QAT                173.33\n",
      "142                PRT                172.13\n",
      "23                 BRA                170.42\n",
      "136                PER                166.89\n",
      "93                 KOR                157.63\n"
     ]
    }
   ],
   "source": [
    "# Sort the DataFrame by 'Fixed Broadband Mbps' in descending order and select the top 25\n",
    "top_25_fixed_broadband = speedtest_index_df.sort_values(by='Fixed Broadband Mbps', ascending=False).head(25)\n",
    "\n",
    "# Print the top 25 countries\n",
    "print(\"Top 25 Countries Based on Fixed Broadband Speed (Mbps):\")\n",
    "print(top_25_fixed_broadband[['ISO 3166-1 alpha-3', 'Fixed Broadband Mbps']])"
   ]
  },
  {
   "cell_type": "code",
   "execution_count": 218,
   "id": "b7bbf594-1634-41e5-b64f-3352b4dab702",
   "metadata": {},
   "outputs": [
    {
     "name": "stdout",
     "output_type": "stream",
     "text": [
      "Top 25 Countries Based on Mobile Speed (Mbps):\n",
      "    ISO 3166-1 alpha-3  Mobile Speed Mbps\n",
      "4                  ARE             398.51\n",
      "144                QAT             344.34\n",
      "94                 KWT             239.83\n",
      "93                 KOR             141.23\n",
      "128                NLD             133.44\n",
      "47                 DNK             130.05\n",
      "129                NOR             128.77\n",
      "148                SAU             122.28\n",
      "16                 BGR             117.64\n",
      "104                LUX             114.42\n",
      "151                SGP             114.30\n",
      "17                 BHR             113.07\n",
      "32                 CHN             108.37\n",
      "123                MYS             106.94\n",
      "182                USA             103.26\n",
      "25                 BRN             103.08\n",
      "58                 FRA             103.08\n",
      "8                  AUS              97.86\n",
      "163                SWE              97.24\n",
      "77                 IND              96.38\n",
      "113                MKD              94.33\n",
      "30                 CHE              93.66\n",
      "56                 FIN              93.59\n",
      "103                LTU              89.71\n",
      "54                 EST              88.60\n"
     ]
    }
   ],
   "source": [
    "# Sort the DataFrame by 'Mobile Speed Mbps' in descending order and select the top 25\n",
    "top_25_mobile_speed = speedtest_index_df.sort_values(by='Mobile Speed Mbps', ascending=False).head(25)\n",
    "\n",
    "# Print the top 25 countries\n",
    "print(\"Top 25 Countries Based on Mobile Speed (Mbps):\")\n",
    "print(top_25_mobile_speed[['ISO 3166-1 alpha-3', 'Mobile Speed Mbps']])"
   ]
  },
  {
   "cell_type": "code",
   "execution_count": 220,
   "id": "bd690902-685e-4ad4-b23d-e7c448ec9609",
   "metadata": {},
   "outputs": [
    {
     "name": "stdout",
     "output_type": "stream",
     "text": [
      "Countries in South Asia with Mobile and Fixed Broadband Speeds:\n",
      "    ISO 3166-1 alpha-3  Mobile Speed Mbps  Fixed Broadband Mbps\n",
      "0                  AFG               8.48                  3.63\n",
      "15                 BGD              27.76                 48.14\n",
      "26                 BTN                NaN                   NaN\n",
      "77                 IND              96.38                 63.79\n",
      "101                LKA              18.96                 22.94\n",
      "110                MDV                NaN                 13.27\n",
      "130                NPL                NaN                 71.62\n",
      "134                PAK              19.59                 15.52\n"
     ]
    }
   ],
   "source": [
    "# Filter the DataFrame for the region \"South Asia\"\n",
    "south_asia_df = speedtest_index_df[speedtest_index_df['Region'] == 'South Asia']\n",
    "\n",
    "# Select the relevant columns: country (ISO code), Mobile Speed, and Fixed Broadband Speed\n",
    "south_asia_speeds = south_asia_df[['ISO 3166-1 alpha-3', 'Mobile Speed Mbps', 'Fixed Broadband Mbps']]\n",
    "\n",
    "# Print the results\n",
    "print(\"Countries in South Asia with Mobile and Fixed Broadband Speeds:\")\n",
    "print(south_asia_speeds)"
   ]
  },
  {
   "cell_type": "code",
   "execution_count": null,
   "id": "4c6b83a9-29d8-4ce7-8dea-458c3d6fc2cc",
   "metadata": {},
   "outputs": [],
   "source": [
    "#Can you write a few lines about the state of the internet, technology, and data? Reflect on where\n",
    "# we stand in this relentless race.\n",
    "\n",
    "#Ans: Well, based on these results, we stand at a very dismal stage, where even Bangladesh is ahead of us in terms of speed. But when we look at the\n",
    "#cost per mb, Pakistan is one of the top countries havign the cheapest internet.  "
   ]
  },
  {
   "cell_type": "markdown",
   "id": "11bbc49a-33e0-4734-a73d-e8dc7114ff09",
   "metadata": {},
   "source": [
    "Question 5: Please refer to the COLDAT Colonies CSV File. This data is sourced from [Becker, 2019] and has\r\n",
    "been simplified to include indicator variables for major European colonizers: Belgium, Italy, Germany,\r\n",
    "France, Britain, the Netherlands, Spain, and Portugal. Note that a country may have multiple colonizers,\r\n",
    "while the column ”last colonizer” indicates the single colonizer from which the country later gained\r\n",
    "independence.\r\n",
    "• Convert the following columns to categorical type: Belgium, Italy, Germany, France, Britain, the\r\n",
    "Netherlands, Spain, Portugal, and ”last colonizer.”\r\n",
    "• Determine the number of countries that remain colonies using the ”last colonizer” column.\r\n",
    "• Calculate the total number of colonies for each colonizer: Belgium, Italy, Germany, France, Britain,\r\n",
    "the Netherlands, Spain, and Portugal.\r\n",
    "• Compare the number of colonies listed in the ”last colonizer” column with those indicated by the\r\n",
    "individual colonizer columns. If there are differences, identify how many countries fall under both\r\n",
    "categories. For example, consider countries that were colonized by both Britain and France."
   ]
  },
  {
   "cell_type": "code",
   "execution_count": 232,
   "id": "074f2d75-fc64-4554-a8bb-d6ffbb85b283",
   "metadata": {},
   "outputs": [
    {
     "name": "stdout",
     "output_type": "stream",
     "text": [
      "ISO_Alpha3_Code    object\n",
      "britain             int64\n",
      "france              int64\n",
      "spain               int64\n",
      "germany             int64\n",
      "portugal            int64\n",
      "netherlands         int64\n",
      "belgium             int64\n",
      "italy               int64\n",
      "last_colonizer     object\n",
      "dtype: object\n"
     ]
    }
   ],
   "source": [
    "# Read the COLDAT Colonies CSV file\n",
    "coladat_df = pd.read_csv('C:/Users/uy128/Desktop/Academics/IBA/Data Analytics for Economists/DataSets/COLDAT_colonies.csv')\n",
    "\n",
    "# Verify the conversion by checking the data types\n",
    "print(coladat_df.dtypes)"
   ]
  },
  {
   "cell_type": "code",
   "execution_count": 230,
   "id": "2ee25f0e-8b0c-4ee3-b79c-76509c9dd278",
   "metadata": {},
   "outputs": [
    {
     "name": "stdout",
     "output_type": "stream",
     "text": [
      "category\n"
     ]
    }
   ],
   "source": [
    "# Convert the 'last_colonizer' column to categorical type\n",
    "coladat_df['last_colonizer'] = coladat_df['last_colonizer'].astype('category')\n",
    "\n",
    "# Verify the conversion by checking the data types\n",
    "print(coladat_df['last_colonizer'].dtype)"
   ]
  },
  {
   "cell_type": "code",
   "execution_count": 234,
   "id": "0adb697f-989e-4729-a33c-58dd565e8ff4",
   "metadata": {},
   "outputs": [
    {
     "name": "stdout",
     "output_type": "stream",
     "text": [
      "Number of countries that remain colonies by last colonizer:\n",
      "last_colonizer\n",
      "britain        65\n",
      "france         26\n",
      "spain          22\n",
      "portugal        7\n",
      "belgium         3\n",
      "netherlands     2\n",
      "germany         2\n",
      "Name: count, dtype: int64\n"
     ]
    }
   ],
   "source": [
    "# Count the occurrences of each last colonizer\n",
    "colonizer_counts = coladat_df['last_colonizer'].value_counts()\n",
    "\n",
    "# Display the number of countries that remain colonies for each colonizer\n",
    "print(\"Number of countries that remain colonies by last colonizer:\")\n",
    "print(colonizer_counts)"
   ]
  },
  {
   "cell_type": "code",
   "execution_count": 236,
   "id": "b36d9666-fe9d-4182-8878-ede3e2b3bfcb",
   "metadata": {},
   "outputs": [
    {
     "name": "stdout",
     "output_type": "stream",
     "text": [
      "Total number of colonies for each colonizer:\n",
      "last_colonizer\n",
      "britain        65\n",
      "france         26\n",
      "spain          22\n",
      "portugal        7\n",
      "belgium         3\n",
      "netherlands     2\n",
      "germany         2\n",
      "Name: count, dtype: int64\n"
     ]
    }
   ],
   "source": [
    "# Specify the list of colonizers\n",
    "colonizers = [\n",
    "    'belgium', \n",
    "    'italy', \n",
    "    'germany', \n",
    "    'france', \n",
    "    'britain', \n",
    "    'netherlands', \n",
    "    'spain', \n",
    "    'portugal'\n",
    "]\n",
    "\n",
    "# Filter the DataFrame for the specified colonizers\n",
    "colonizer_counts = coladat_df[coladat_df['last_colonizer'].isin(colonizers)]\n",
    "\n",
    "# Count the occurrences of each colonizer\n",
    "total_colonies = colonizer_counts['last_colonizer'].value_counts()\n",
    "\n",
    "# Display the total number of colonies for each colonizer\n",
    "print(\"Total number of colonies for each colonizer:\")\n",
    "print(total_colonies)"
   ]
  },
  {
   "cell_type": "markdown",
   "id": "3e3c2c73-0a4e-45ee-bfaf-10e815c5b1fd",
   "metadata": {},
   "source": [
    "Question 6\r\n",
    "Refer to these CSV files: 1) Africa, 2) Americas, 3) Asia, 4) Europe, 5) Australia Oceania, 6)\r\n",
    "Transcontinental States . These files contain country names, the date of sovereignty acquisition, and\r\n",
    "descriptions of how sovereignty was acquired. For more details, visit the Wikipedia page. Each of these\r\n",
    "data frames has three same columns 1) Country Name, 2) Sovereignty Acquisition Date, 3) Sovereignty\r\n",
    "Acquisition Description.\r\n",
    "• Read the CSV files and assign corresponding name such as: Africa df, Americas df, Asia df,\r\n",
    "Australia Oceania df, Europe df, and Transcontinental states df\r\n",
    "• Create a column -“continent name” in each of these 6 files, fill with appropriate name of the content.\r\n",
    "• Combine all six DataFrames into a single unified DataFrame and name it continents df.\r\n",
    "• Ensure that the resulting DataFrame retains all relevant columns and number of rows from each\r\n",
    "continent.\r\n",
    "• Clean the Data: Remove any unnecessary notes, references, or sources attached to the values in\r\n",
    "any column.\r\n",
    "• Extract valid four-digit years starting with ”15”, ”16”, ”17”, ”18”, ”19”, or ”20” from the Sovereignty\r\n",
    "Acquisition Date column and store them in a new column named Year.\r\n",
    "• Fill any missing values in the Year column with the default value of 1400 and convert the column\r\n",
    "to a numeric data type, ensuring that any conversion errors result in NaN.\r\n",
    "• This default is used because some countries may have acquisition dates that are earlier or in BC\r\n",
    "(Before Christ), as indicated by entries such as ”600 BC”, ”218 BC”, and ”3 September 301”.\r\n",
    "The value 1400 serves as a placeholder for these cases where specific years cannot be accurately\r\n",
    "extracted.\r\n",
    "• Extract colonizer: Belgium, Italy, Germany, France, Britain, the Netherlands, Spain, Portugal,\r\n",
    "other using the column Sovereignty Acquisition Description.\r\n",
    "• A country may have multiple entries for different dates of sovereignty acquisition, Therefore remove\r\n",
    "duplicate entries based on Country Name, ensuring that you keep the row with the latest Year\r\n",
    "sovereignty acquisition for each country.\r\n",
    "• Convert the colonizer columns to categorical type. Compare the number of colonies for each\r\n",
    "colonizer using this data alongside the COLDAT dataset. Don’t worry if the numbers don’t match\r\n",
    "exactly; the goal is to achieve a relatively comparable analysis.comparable analysis."
   ]
  },
  {
   "cell_type": "code",
   "execution_count": 240,
   "id": "f5f0f768-11ed-4941-97de-7163495428b6",
   "metadata": {},
   "outputs": [
    {
     "name": "stdout",
     "output_type": "stream",
     "text": [
      "Africa DataFrame:\n",
      "  Country_Name Sovereignty_Acquisition_Date  \\\n",
      "0      Algeria                       202 BC   \n",
      "1      Algeria                  5 July 1962   \n",
      "2       Angola             11 November 1975   \n",
      "3        Benin                1 August 1960   \n",
      "4     Botswana            30 September 1966   \n",
      "\n",
      "                 Sovereignty_Acquisition_Description  \n",
      "0  Massinissa unifies Numidia which extended from...  \n",
      "1  Algeria reclaims sovereignty over the entire A...  \n",
      "2                         Independence from Portugal  \n",
      "3                           Independence from France  \n",
      "4               Independence from the United Kingdom  \n",
      "\n",
      "Americas DataFrame:\n",
      "          Country_Name Sovereignty_Acquisition_Date  \\\n",
      "0  Antigua and Barbuda              1 November 1981   \n",
      "1            Argentina                  25 May 1810   \n",
      "2            Argentina                  9 July 1816   \n",
      "3              Bahamas               7 January 1964   \n",
      "4              Bahamas                 10 July 1973   \n",
      "\n",
      "                 Sovereignty_Acquisition_Description  \n",
      "0               Independence from the United Kingdom  \n",
      "1     May Revolution installs first local government  \n",
      "2  Argentine Declaration of Independence from Spain.  \n",
      "3                   Internal self-governance granted  \n",
      "4               Independence from the United Kingdom  \n",
      "\n",
      "Asia DataFrame:\n",
      "  Country_Name Sovereignty_Acquisition_Date  \\\n",
      "0  Afghanistan                         1747   \n",
      "1      Armenia                       189 BC   \n",
      "2      Armenia                          880   \n",
      "3      Armenia            21 September 1991   \n",
      "4      Bahrain               15 August 1971   \n",
      "\n",
      "                 Sovereignty_Acquisition_Description  \n",
      "0                                     Durrani Empire  \n",
      "1       Kingdom of Armenia under Artaxiad dynasty[8]  \n",
      "2  Evolving as a feudal kingdom in the ninth cent...  \n",
      "3        Independence recognized by the Soviet Union  \n",
      "4            End of treaties with the United Kingdom  \n",
      "\n",
      "Europe DataFrame:\n",
      "  Country_Name                    Sovereignty_Acquisition_Date  \\\n",
      "0     Bulgaria  681 on territories of the Eastern Roman Empire   \n",
      "1     Bulgaria                                            1185   \n",
      "2     Bulgaria                                    13 July 1878   \n",
      "3     Bulgaria                               22 September 1908   \n",
      "4      Andorra                                            1278   \n",
      "\n",
      "                 Sovereignty_Acquisition_Description  \n",
      "0                                (Danubian) Bulgaria  \n",
      "1                     Second Bulgarian Empire formed  \n",
      "2  Autonomy within Ottoman Empire recognized inte...  \n",
      "3                   Independence from Ottoman Empire  \n",
      "4                           Independence from Aragon  \n",
      "\n",
      "Australia Oceania DataFrame:\n",
      "   Country_Name Sovereignty_Acquisition_Date  \\\n",
      "0     Australia               1 January 1901   \n",
      "1     Australia             11 December 1931   \n",
      "2     Australia                 3 March 1986   \n",
      "3  Cook Islands                4 August 1965   \n",
      "4          Fiji              10 October 1970   \n",
      "\n",
      "    Sovereignty_Acquisition_Description  \n",
      "0     Independence from United Kingdom.  \n",
      "1                Statute of Westminster  \n",
      "2                    Australia Act 1986  \n",
      "3          1962 autonomy of New Zealand  \n",
      "4  Independence from the United Kingdom  \n",
      "\n",
      "Transcontinental States DataFrame:\n",
      "  Country_Name Sovereignty_Acquisition_Date  \\\n",
      "0   Azerbaijan                  28 May 1918   \n",
      "1     Colombia                 20 July 1810   \n",
      "2     Colombia                7 August 1819   \n",
      "3     Colombia                         1830   \n",
      "4       Cyprus               16 August 1960   \n",
      "\n",
      "                 Sovereignty_Acquisition_Description  \n",
      "0  Establishment of the Azerbaijan Democratic Rep...  \n",
      "1                   Independence declared from Spain  \n",
      "2                   Independence recognized by Spain  \n",
      "3                       Dissolution of Gran Colombia  \n",
      "4                   Independence from United Kingdom  \n"
     ]
    }
   ],
   "source": [
    "# Read the CSV files and assign them to DataFrames\n",
    "africa_df = pd.read_csv('C:/Users/uy128/Desktop/Academics/IBA/Data Analytics for Economists/DataSets/Africa.csv')\n",
    "americas_df = pd.read_csv('C:/Users/uy128/Desktop/Academics/IBA/Data Analytics for Economists/DataSets/Americas.csv')\n",
    "asia_df = pd.read_csv('C:/Users/uy128/Desktop/Academics/IBA/Data Analytics for Economists/DataSets/Asia.csv')\n",
    "europe_df = pd.read_csv('C:/Users/uy128/Desktop/Academics/IBA/Data Analytics for Economists/DataSets/Europe.csv')\n",
    "australia_oceania_df = pd.read_csv('C:/Users/uy128/Desktop/Academics/IBA/Data Analytics for Economists/DataSets/Australia_Oceania.csv')  \n",
    "transcontinental_states_df = pd.read_csv('C:/Users/uy128/Desktop/Academics/IBA/Data Analytics for Economists/DataSets/Transcontinental_states.csv')\n",
    "\n",
    "# Print the first few rows of each DataFrame to verify the contents\n",
    "print(\"Africa DataFrame:\")\n",
    "print(africa_df.head())\n",
    "print(\"\\nAmericas DataFrame:\")\n",
    "print(americas_df.head())\n",
    "print(\"\\nAsia DataFrame:\")\n",
    "print(asia_df.head())\n",
    "print(\"\\nEurope DataFrame:\")\n",
    "print(europe_df.head())\n",
    "print(\"\\nAustralia Oceania DataFrame:\")\n",
    "print(australia_oceania_df.head())\n",
    "print(\"\\nTranscontinental States DataFrame:\")\n",
    "print(transcontinental_states_df.head())"
   ]
  },
  {
   "cell_type": "code",
   "execution_count": 242,
   "id": "1d8da4b2-a96f-4141-b552-cc9cb6f03f25",
   "metadata": {},
   "outputs": [
    {
     "name": "stdout",
     "output_type": "stream",
     "text": [
      "Combined DataFrame (continents_df):\n",
      "  Country_Name Sovereignty_Acquisition_Date  \\\n",
      "0      Algeria                       202 BC   \n",
      "1      Algeria                  5 July 1962   \n",
      "2       Angola             11 November 1975   \n",
      "3        Benin                1 August 1960   \n",
      "4     Botswana            30 September 1966   \n",
      "\n",
      "                 Sovereignty_Acquisition_Description continent name  \n",
      "0  Massinissa unifies Numidia which extended from...         Africa  \n",
      "1  Algeria reclaims sovereignty over the entire A...         Africa  \n",
      "2                         Independence from Portugal         Africa  \n",
      "3                           Independence from France         Africa  \n",
      "4               Independence from the United Kingdom         Africa  \n",
      "\n",
      "Total number of rows in continents_df: 367\n"
     ]
    }
   ],
   "source": [
    "# Add \"continent name\" column to each DataFrame\n",
    "africa_df['continent name'] = 'Africa'\n",
    "americas_df['continent name'] = 'Americas'\n",
    "asia_df['continent name'] = 'Asia'\n",
    "europe_df['continent name'] = 'Europe'\n",
    "australia_oceania_df['continent name'] = 'Australia Oceania'\n",
    "transcontinental_states_df['continent name'] = 'Transcontinental States'\n",
    "\n",
    "# Combine all DataFrames into a single DataFrame\n",
    "continents_df = pd.concat([africa_df, americas_df, asia_df, europe_df, australia_oceania_df, transcontinental_states_df], ignore_index=True)\n",
    "\n",
    "# Display the combined DataFrame\n",
    "print(\"Combined DataFrame (continents_df):\")\n",
    "print(continents_df.head())  # Display the first few rows to verify\n",
    "print(\"\\nTotal number of rows in continents_df:\", len(continents_df))"
   ]
  },
  {
   "cell_type": "code",
   "execution_count": 306,
   "id": "dd86932c-c37e-4afd-a33d-9632953ef727",
   "metadata": {},
   "outputs": [
    {
     "name": "stdout",
     "output_type": "stream",
     "text": [
      "Cleaned Combined DataFrame (continents_df):\n",
      "  Country_Name Sovereignty_Acquisition_Date  \\\n",
      "0  Afghanistan                         1747   \n",
      "1      Albania             28 November 1944   \n",
      "2      Algeria                  5 July 1962   \n",
      "3      Andorra                         1278   \n",
      "4       Angola             11 November 1975   \n",
      "\n",
      "                 Sovereignty_Acquisition_Description continent name  Year  \\\n",
      "0                                     Durrani Empire           Asia  1747   \n",
      "1  Albanian state re-established after Italian/Ge...         Europe  1944   \n",
      "2  Algeria reclaims sovereignty over the entire A...         Africa  1962   \n",
      "3                           Independence from Aragon         Europe  1400   \n",
      "4                         Independence from Portugal         Africa  1975   \n",
      "\n",
      "  Colonizer  \n",
      "0     other  \n",
      "1     other  \n",
      "2    france  \n",
      "3     other  \n",
      "4  portugal  \n"
     ]
    }
   ],
   "source": [
    "# Function to clean the DataFrame\n",
    "def clean_data(df):\n",
    "    # Example cleaning: Remove any text in parentheses and trim whitespace\n",
    "    for column in df.columns:\n",
    "        # Remove text in parentheses and trim whitespace\n",
    "        df.loc[:, column] = df[column].astype(str).str.replace(r'\\s*\\(.*?\\)', '', regex=True).str.strip()\n",
    "    return df\n",
    "\n",
    "# Clean the combined DataFrame\n",
    "continents_df = clean_data(continents_df)\n",
    "\n",
    "# Optionally, print the cleaned DataFrame to verify\n",
    "print(\"Cleaned Combined DataFrame (continents_df):\")\n",
    "print(continents_df.head())"
   ]
  },
  {
   "cell_type": "code",
   "execution_count": 256,
   "id": "d47d8bd6-52bf-401d-854d-570543580f9c",
   "metadata": {},
   "outputs": [
    {
     "name": "stdout",
     "output_type": "stream",
     "text": [
      "Updated Combined DataFrame with Year column:\n",
      "  Sovereignty_Acquisition_Date  Year\n",
      "0                       202 BC   NaN\n",
      "1                  5 July 1962  1962\n",
      "2             11 November 1975  1975\n",
      "3                1 August 1960  1960\n",
      "4            30 September 1966  1966\n"
     ]
    }
   ],
   "source": [
    "# Function to extract valid years\n",
    "def extract_years(df):\n",
    "    # Correct regex to find four-digit years starting with 15, 16, 17, 18, 19, or 20\n",
    "    df['Year'] = df['Sovereignty-Acquisition Date'].str.extract(r'(?<!\\d)([1][5-9]\\d{2}|[2][0]\\d{2})(?!\\d)')[0]\n",
    "    return df\n",
    "\n",
    "# Extract years and add to the DataFrame\n",
    "continents_df = extract_years(continents_df)\n",
    "\n",
    "# Optionally, print the updated DataFrame to verify\n",
    "print(\"Updated Combined DataFrame with Year column:\")\n",
    "print(continents_df[['Sovereignty Acquisition Date', 'Year']].head())"
   ]
  },
  {
   "cell_type": "code",
   "execution_count": 264,
   "id": "6582b357-67f9-40ba-b5de-a0f9d1eb2186",
   "metadata": {},
   "outputs": [
    {
     "name": "stdout",
     "output_type": "stream",
     "text": [
      "Updated Combined DataFrame with Year column:\n",
      "  Sovereignty_Acquisition_Date  Year\n",
      "0                       202 BC  1400\n",
      "1                  5 July 1962  1962\n",
      "2             11 November 1975  1975\n",
      "3                1 August 1960  1960\n",
      "4            30 September 1966  1966\n"
     ]
    }
   ],
   "source": [
    "# Fill missing values in the 'Year' column with 1400 and assign back to the column\n",
    "continents_df['Year'] = continents_df['Year'].fillna(1400)\n",
    "\n",
    "# Convert the 'Year' column to numeric, setting errors='coerce' to handle conversion errors\n",
    "continents_df['Year'] = pd.to_numeric(continents_df['Year'], errors='coerce')\n",
    "\n",
    "# Optionally, print the updated DataFrame to verify\n",
    "print(\"Updated Combined DataFrame with Year column:\")\n",
    "print(continents_df[['Sovereignty_Acquisition_Date', 'Year']].head())"
   ]
  },
  {
   "cell_type": "code",
   "execution_count": 266,
   "id": "7de3b73c-7366-480c-95ae-abb2a6640187",
   "metadata": {},
   "outputs": [
    {
     "name": "stdout",
     "output_type": "stream",
     "text": [
      "  Country_Name Sovereignty_Acquisition_Date  \\\n",
      "0      Algeria                       202 BC   \n",
      "1      Algeria                  5 July 1962   \n",
      "2       Angola             11 November 1975   \n",
      "3        Benin                1 August 1960   \n",
      "4     Botswana            30 September 1966   \n",
      "\n",
      "                 Sovereignty_Acquisition_Description continent name  Year  \n",
      "0  Massinissa unifies Numidia which extended from...         Africa  1400  \n",
      "1  Algeria reclaims sovereignty over the entire A...         Africa  1962  \n",
      "2                         Independence from Portugal         Africa  1975  \n",
      "3                           Independence from France         Africa  1960  \n",
      "4               Independence from the United Kingdom         Africa  1966  \n"
     ]
    }
   ],
   "source": [
    "print(continents_df.head())"
   ]
  },
  {
   "cell_type": "code",
   "execution_count": 268,
   "id": "ea274317-9c6e-4799-8d8f-7b2da8b4c52a",
   "metadata": {},
   "outputs": [
    {
     "name": "stdout",
     "output_type": "stream",
     "text": [
      "Updated Combined DataFrame with Colonizer column:\n",
      "                 Sovereignty_Acquisition_Description Colonizer\n",
      "0  Massinissa unifies Numidia which extended from...     Other\n",
      "1  Algeria reclaims sovereignty over the entire A...    France\n",
      "2                         Independence from Portugal  Portugal\n",
      "3                           Independence from France    France\n",
      "4               Independence from the United Kingdom     Other\n"
     ]
    }
   ],
   "source": [
    "# Function to extract colonizer\n",
    "def extract_colonizer(description):\n",
    "    description = description.lower()  # Convert to lowercase for case-insensitive matching\n",
    "    for colonizer in colonizers:\n",
    "        if colonizer in description:\n",
    "            return colonizer.capitalize()  # Capitalize the first letter for consistency\n",
    "    return 'Other'\n",
    "\n",
    "# Apply the function to create a new column 'Colonizer'\n",
    "continents_df['Colonizer'] = continents_df['Sovereignty_Acquisition_Description'].apply(extract_colonizer)\n",
    "\n",
    "# Optionally, print the updated DataFrame to verify\n",
    "print(\"Updated Combined DataFrame with Colonizer column:\")\n",
    "print(continents_df[['Sovereignty_Acquisition_Description', 'Colonizer']].head())"
   ]
  },
  {
   "cell_type": "code",
   "execution_count": 270,
   "id": "cca0b8d9-7ef0-4933-a8bd-0ef245edb3ba",
   "metadata": {},
   "outputs": [
    {
     "data": {
      "text/plain": [
       "Colonizer\n",
       "Other          270\n",
       "Spain           43\n",
       "France          26\n",
       "Portugal        11\n",
       "Britain          7\n",
       "Netherlands      4\n",
       "Belgium          3\n",
       "Germany          3\n",
       "Name: count, dtype: int64"
      ]
     },
     "execution_count": 270,
     "metadata": {},
     "output_type": "execute_result"
    }
   ],
   "source": [
    "continents_df['Colonizer'].value_counts()"
   ]
  },
  {
   "cell_type": "code",
   "execution_count": 274,
   "id": "f59edeae-4dd5-4d1a-80dd-b6b8d54f1649",
   "metadata": {},
   "outputs": [
    {
     "name": "stdout",
     "output_type": "stream",
     "text": [
      "DataFrame after removing duplicates:\n",
      "  Country_Name Sovereignty_Acquisition_Date  \\\n",
      "0  Afghanistan                         1747   \n",
      "1      Albania             28 November 1944   \n",
      "2      Algeria                  5 July 1962   \n",
      "3      Andorra                         1278   \n",
      "4       Angola             11 November 1975   \n",
      "\n",
      "                 Sovereignty_Acquisition_Description continent name  Year  \\\n",
      "0                                     Durrani Empire           Asia  1747   \n",
      "1  Albanian state re-established after Italian/Ge...         Europe  1944   \n",
      "2  Algeria reclaims sovereignty over the entire A...         Africa  1962   \n",
      "3                           Independence from Aragon         Europe  1400   \n",
      "4                         Independence from Portugal         Africa  1975   \n",
      "\n",
      "  Colonizer  \n",
      "0     Other  \n",
      "1     Other  \n",
      "2    France  \n",
      "3     Other  \n",
      "4  Portugal  \n"
     ]
    }
   ],
   "source": [
    "# Sort the DataFrame by 'Country Name' and 'Year' in descending order\n",
    "continents_df.sort_values(by=['Country_Name', 'Year'], ascending=[True, False], inplace=True)\n",
    "\n",
    "# Drop duplicates, keeping the first occurrence (which will be the latest due to sorting)\n",
    "continents_df = continents_df.drop_duplicates(subset='Country_Name', keep='first')\n",
    "\n",
    "# Optionally, reset the index for better readability\n",
    "continents_df.reset_index(drop=True, inplace=True)\n",
    "\n",
    "# Print the updated DataFrame to verify\n",
    "print(\"DataFrame after removing duplicates:\")\n",
    "print(continents_df.head())"
   ]
  },
  {
   "cell_type": "code",
   "execution_count": 298,
   "id": "878ce217-e4b0-41c3-8466-891324be2bf7",
   "metadata": {},
   "outputs": [
    {
     "name": "stdout",
     "output_type": "stream",
     "text": [
      "Comparison of the number of colonies for each colonizer:\n",
      "             Continents Data Count  COLDAT Data Count\n",
      "belgium                          3                  3\n",
      "britain                          2                 65\n",
      "france                          21                 26\n",
      "germany                          2                  2\n",
      "netherlands                      3                  2\n",
      "other                          143                  0\n",
      "portugal                         6                  7\n",
      "spain                           18                 22\n"
     ]
    }
   ],
   "source": [
    "\n",
    "# Normalize the 'Colonizer' column in continents_df to lowercase\n",
    "continents_df.loc[:, 'Colonizer'] = continents_df['Colonizer'].str.lower()\n",
    "\n",
    "# Normalize the 'last_colonizer' column in coladat_df to lowercase\n",
    "coladat_df['last_colonizer'] = coladat_df['last_colonizer'].str.lower()\n",
    "\n",
    "# Count the number of colonies for each colonizer in continents_df\n",
    "colonizer_counts = continents_df['Colonizer'].value_counts()\n",
    "\n",
    "# Count the number of colonies for each last_colonizer in COLDAT\n",
    "coladat_counts = coladat_df['last_colonizer'].value_counts()\n",
    "\n",
    "# Create a comparison DataFrame\n",
    "comparison_df = pd.DataFrame({\n",
    "    'Continents Data Count': colonizer_counts,\n",
    "    'COLDAT Data Count': coladat_counts\n",
    "}).fillna(0)  # Fill NaN with 0 for easier comparison\n",
    "\n",
    "# Convert counts to integer type\n",
    "comparison_df = comparison_df.astype(int)\n",
    "\n",
    "# Print the comparison DataFrame\n",
    "print(\"Comparison of the number of colonies for each colonizer:\")\n",
    "print(comparison_df)"
   ]
  },
  {
   "cell_type": "code",
   "execution_count": null,
   "id": "e78036ec-5b9b-4aba-9e77-c083ef303862",
   "metadata": {},
   "outputs": [],
   "source": []
  }
 ],
 "metadata": {
  "kernelspec": {
   "display_name": "Python 3 (ipykernel)",
   "language": "python",
   "name": "python3"
  },
  "language_info": {
   "codemirror_mode": {
    "name": "ipython",
    "version": 3
   },
   "file_extension": ".py",
   "mimetype": "text/x-python",
   "name": "python",
   "nbconvert_exporter": "python",
   "pygments_lexer": "ipython3",
   "version": "3.12.4"
  }
 },
 "nbformat": 4,
 "nbformat_minor": 5
}
